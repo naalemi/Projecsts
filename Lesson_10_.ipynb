{
  "nbformat": 4,
  "nbformat_minor": 0,
  "metadata": {
    "colab": {
      "provenance": [],
      "authorship_tag": "ABX9TyM+TKxK39HX2pTEicmJqbWq",
      "include_colab_link": true
    },
    "kernelspec": {
      "name": "python3",
      "display_name": "Python 3"
    },
    "language_info": {
      "name": "python"
    }
  },
  "cells": [
    {
      "cell_type": "markdown",
      "metadata": {
        "id": "view-in-github",
        "colab_type": "text"
      },
      "source": [
        "<a href=\"https://colab.research.google.com/github/naalemi/Projecsts/blob/main/Lesson_10_.ipynb\" target=\"_parent\"><img src=\"https://colab.research.google.com/assets/colab-badge.svg\" alt=\"Open In Colab\"/></a>"
      ]
    },
    {
      "cell_type": "code",
      "execution_count": null,
      "metadata": {
        "colab": {
          "base_uri": "https://localhost:8080/"
        },
        "id": "-QOM_5VhF7qP",
        "outputId": "250d4274-f589-4883-9918-c6edff15b59e"
      },
      "outputs": [
        {
          "output_type": "stream",
          "name": "stdout",
          "text": [
            "what is your first name?aghGye\n",
            "what is your last name?RWediIY\n",
            "Results:Aghgye Rwediiy\n"
          ]
        }
      ],
      "source": [
        "def format_name(f_name, l_name):\n",
        "  if f_name == \"\" or l_name == \"\":\n",
        "    return\n",
        "  format_f_name = f_name.title()\n",
        "  format_l_name = l_name.title()\n",
        "  return f\"Results:{format_f_name} {format_l_name}\"\n",
        "print(format_name(input(\"what is your first name?\"), input(\"what is your last name?\")))"
      ]
    },
    {
      "cell_type": "code",
      "source": [
        "def bes(a, b):\n",
        "    return a + b\n",
        "\n",
        "result = bes(3, 4)  # result now holds the value 7\n",
        "print(result)  # Output: 7"
      ],
      "metadata": {
        "colab": {
          "base_uri": "https://localhost:8080/"
        },
        "id": "0mf5x-PMLIbl",
        "outputId": "09be22d3-02f6-4752-d0b3-5e70d5ed8656"
      },
      "execution_count": null,
      "outputs": [
        {
          "output_type": "stream",
          "name": "stdout",
          "text": [
            "7\n"
          ]
        }
      ]
    },
    {
      "cell_type": "code",
      "source": [
        "def adde(a, b):\n",
        "    return a + b\n",
        "\n",
        "adde(3, 4)  # result now holds the value 7"
      ],
      "metadata": {
        "colab": {
          "base_uri": "https://localhost:8080/"
        },
        "id": "WgtFgID9Lk1V",
        "outputId": "030eaa59-c41c-43f6-cfc7-414e86b72da0"
      },
      "execution_count": null,
      "outputs": [
        {
          "output_type": "execute_result",
          "data": {
            "text/plain": [
              "7"
            ]
          },
          "metadata": {},
          "execution_count": 5
        }
      ]
    },
    {
      "cell_type": "code",
      "source": [
        "def format_name(f_name, l_name):\n",
        "    if f_name == \"\" or l_name == \"\":\n",
        "        return \"Invalid input\"\n",
        "    format_f_name = f_name.title()\n",
        "    format_l_name = l_name.title()\n",
        "    return f\"Formatted Name: {format_f_name} {format_l_name}\"\n",
        "\n",
        "full_name = format_name(l_name=\"AKher\",f_name=\"aWel\")\n",
        "print(full_name)"
      ],
      "metadata": {
        "colab": {
          "base_uri": "https://localhost:8080/"
        },
        "id": "uUAEpUjSOEG1",
        "outputId": "7934a9dd-b408-4734-8af3-e51e8f3d7be0"
      },
      "execution_count": null,
      "outputs": [
        {
          "output_type": "stream",
          "name": "stdout",
          "text": [
            "Formatted Name: Awel Akher\n"
          ]
        }
      ]
    },
    {
      "cell_type": "code",
      "source": [
        "def complex_calculation(a, b):\n",
        "    # Simulate a complex calculation\n",
        "    return a * b + (a - b) / (a + b)\n",
        "\n",
        "# Direct printing\n",
        "#print(complex_calculation(5, 3))\n",
        "\n",
        "# Assigning to a variable\n",
        "result = complex_calculation(5, 3)\n",
        "print(result)\n",
        "# Further usage of the result\n",
        "if result > 10:\n",
        "    print(\"Result is greater than 10\")\n",
        "else:\n",
        "    print(\"Result is 10 or less\")"
      ],
      "metadata": {
        "colab": {
          "base_uri": "https://localhost:8080/"
        },
        "id": "noMgs-OmYKTJ",
        "outputId": "f0aab975-138e-4472-9679-ebba40a378ea"
      },
      "execution_count": null,
      "outputs": [
        {
          "output_type": "stream",
          "name": "stdout",
          "text": [
            "15.25\n",
            "Result is greater than 10\n"
          ]
        }
      ]
    },
    {
      "cell_type": "code",
      "source": [
        "#rounding numbers in python\n",
        "round(8/3,2)"
      ],
      "metadata": {
        "id": "5zdFVEvmmqIa",
        "colab": {
          "base_uri": "https://localhost:8080/"
        },
        "outputId": "e5397561-e631-4fb4-bea3-983f4ffab3b0"
      },
      "execution_count": null,
      "outputs": [
        {
          "output_type": "execute_result",
          "data": {
            "text/plain": [
              "2.67"
            ]
          },
          "metadata": {},
          "execution_count": 3
        }
      ]
    },
    {
      "cell_type": "code",
      "source": [
        "#you can use floor division to get anything before decimal place.\n",
        "#It is done with two slashes\n",
        "8//3"
      ],
      "metadata": {
        "colab": {
          "base_uri": "https://localhost:8080/"
        },
        "id": "CvsIU4JFvo1h",
        "outputId": "05f0f2aa-216c-4288-93ea-a7dbebe9ce8f"
      },
      "execution_count": null,
      "outputs": [
        {
          "output_type": "execute_result",
          "data": {
            "text/plain": [
              "2"
            ]
          },
          "metadata": {},
          "execution_count": 4
        }
      ]
    },
    {
      "cell_type": "code",
      "source": [
        "#result_num type is float\n",
        "result_num = 4/2\n",
        "result_num /= 2 #also float. This is to aviod few steps and can be used for +=, -=, and /=\n",
        "result_num"
      ],
      "metadata": {
        "colab": {
          "base_uri": "https://localhost:8080/"
        },
        "id": "GQWCVWQJv4t4",
        "outputId": "2c3dba89-ed44-402e-f8d2-4c79ce4f4479"
      },
      "execution_count": null,
      "outputs": [
        {
          "output_type": "execute_result",
          "data": {
            "text/plain": [
              "1.0"
            ]
          },
          "metadata": {},
          "execution_count": 6
        }
      ]
    },
    {
      "cell_type": "code",
      "source": [
        "# F-string converts different data types\n",
        "Score = 0\n",
        "Height = 1.8\n",
        "isWinning = True\n",
        "f\"Your score is {Score}, your height is {Height}, and your winning is {isWinning}\""
      ],
      "metadata": {
        "colab": {
          "base_uri": "https://localhost:8080/",
          "height": 36
        },
        "id": "7ML3F--G9KQh",
        "outputId": "c768842d-1d70-442a-f038-cee610169d24"
      },
      "execution_count": null,
      "outputs": [
        {
          "output_type": "execute_result",
          "data": {
            "text/plain": [
              "'Your score is 0, your height is 1.8, and your winning is True'"
            ],
            "application/vnd.google.colaboratory.intrinsic+json": {
              "type": "string"
            }
          },
          "metadata": {},
          "execution_count": 1
        }
      ]
    },
    {
      "cell_type": "code",
      "source": [
        "#excercise of getting the weeks remained if age 90\n",
        "age = input()\n",
        "years = 90 - int(age)\n",
        "weeks = years * 52\n",
        "print(f\"You have {weeks} left in your age.\")"
      ],
      "metadata": {
        "colab": {
          "base_uri": "https://localhost:8080/"
        },
        "id": "EfyC62QKzsnj",
        "outputId": "f464de81-3750-420b-b62b-5f707e0b2827"
      },
      "execution_count": null,
      "outputs": [
        {
          "output_type": "stream",
          "name": "stdout",
          "text": [
            "56\n",
            "You have 1768 left in your age.\n"
          ]
        }
      ]
    },
    {
      "cell_type": "code",
      "source": [
        "#If the bill was $150.00, split between 5 people, with 12% tip.\n",
        "\n",
        "#Each person should pay (150.00 / 5) * 1.12 = 33.6\n",
        "#Format the result to 2 decimal places = 33.60\n",
        "\n",
        "#Tip: There are 2 ways to round a number. You might have to do some Googling to solve this.💪\n",
        "\n",
        "#Write your code below this line 👇\n",
        "\n",
        "print(\"Welcome to the tip calculator!\")\n",
        "total_bill = float(input(\"What was the total bill? $\"))\n",
        "perc_tip = float(input(\"How much tip would you like to give? 10, 12, 15? \"))\n",
        "num_ppl = float(input(\"How many people to split the bill? \"))\n",
        "total_bill_tip = round((total_bill/num_ppl) * (1 + (perc_tip/100)), 2)\n",
        "each_person = print(f\"Each person should pay {total_bill_tip}\")"
      ],
      "metadata": {
        "colab": {
          "base_uri": "https://localhost:8080/"
        },
        "id": "o_ik9v4L0Xqq",
        "outputId": "83645fc8-39a9-4a75-a839-e0e8f689dde1"
      },
      "execution_count": null,
      "outputs": [
        {
          "output_type": "stream",
          "name": "stdout",
          "text": [
            "Welcome to the tip calculator!\n",
            "What was the total bill? $150\n",
            "How much tip would you like to give? 10, 12, 15? 12\n",
            "How many people to split the bill? 5\n",
            "Each person should pay 33.6\n"
          ]
        }
      ]
    },
    {
      "cell_type": "code",
      "source": [
        "# How to check whether a number is odd or even.\n",
        "number = int(input())\n",
        "# 🚨 Don't change the code above 👆\n",
        "# % Modulo Operator. It returns the remainder\n",
        "# of dividing the left hand operand by right hand operand.\n",
        "# It's used to get the remainder of a division problem.\n",
        "\n",
        "if number % 2 == 0:\n",
        "  print(\"This is an even number.\")\n",
        "else:\n",
        "  print(\"This is an odd number.\")"
      ],
      "metadata": {
        "colab": {
          "base_uri": "https://localhost:8080/"
        },
        "id": "Ucfb35L9fpns",
        "outputId": "c7d30147-b1e5-4aa7-fe27-3957c81dd485"
      },
      "execution_count": null,
      "outputs": [
        {
          "output_type": "stream",
          "name": "stdout",
          "text": [
            "18\n",
            "This is an even number.\n"
          ]
        }
      ]
    },
    {
      "cell_type": "code",
      "source": [
        "bill = 0\n",
        "height = input(\"what is your height in cm? \")\n",
        "height = int(height)\n",
        "if height > 120:\n",
        "  print(\"Welcome to roller coster. Please provide your info.\")\n",
        "  age = input(\"what is your age in years? \")\n",
        "  age = int(age)\n",
        "  want_photos = input(\"would you like your phpto be take Y or N? \")\n",
        "  if age < 12 :\n",
        "    bill += 5\n",
        "  else:\n",
        "    bill += 12\n",
        "  if want_photos == \"Y\":\n",
        "    bill +=3\n",
        "  print(f\"Your total bill is ${bill}.\")\n",
        "  if age >= 45 and age <= 55:\n",
        "    bill = 0\n",
        "    if want_photos == \"Y\":\n",
        "      bill +=3\n",
        "    print(f\"Sorry that you're going through this tough time, there is no ticket cost for you and so your bill is ${bill}.\")\n",
        "else:\n",
        "  print(\"Sorry you can't ride. You must grow taller\")\n"
      ],
      "metadata": {
        "id": "V-YEtQ8bgOA7",
        "colab": {
          "base_uri": "https://localhost:8080/"
        },
        "outputId": "91b044c1-ab85-4649-d087-744a83e73388"
      },
      "execution_count": null,
      "outputs": [
        {
          "output_type": "stream",
          "name": "stdout",
          "text": [
            "what is your height in cm? 121\n",
            "Welcome to roller coster. Please provide your info.\n",
            "what is your age in years? 45\n",
            "would you like your phpto be take Y or N? N\n",
            "Your total bill is $12.\n",
            "Sorry that you're going through this tough time, there is no ticket cost for you and so your bill is $0.\n"
          ]
        }
      ]
    },
    {
      "cell_type": "code",
      "source": [
        "print(\"The love calculator is calculating your score...\")\n",
        "name1 = input(\"What is your name person1?\").lower()\n",
        "name2 = input(\"What is your name person2?\").lower()\n",
        "# and now the main code\n",
        "count_t = int(name1.count(\"t\")) + int(name2.count(\"t\"))\n",
        "count_r = int(name1.count(\"r\")) + int(name2.count(\"r\"))\n",
        "count_u = int(name1.count(\"u\")) + int(name2.count(\"u\"))\n",
        "count_e = int(name1.count(\"e\")) + int(name2.count(\"e\"))\n",
        "count_true = count_t + count_r + count_u + count_e\n",
        "\n",
        "count_l = int(name1.count(\"l\")) + int(name2.count(\"l\"))\n",
        "count_o = int(name1.count(\"o\")) + int(name2.count(\"o\"))\n",
        "count_v = int(name1.count(\"v\")) + int(name2.count(\"v\"))\n",
        "count_e = int(name1.count(\"e\")) + int(name2.count(\"e\"))\n",
        "count_love = count_l + count_o + count_v + count_e\n",
        "\n",
        "final_score = str(count_true) + str(count_love)\n",
        "final_score = int(final_score)\n",
        "\n",
        "if final_score < 10 or final_score > 90:\n",
        "  print(f\"Your score is {final_score}, you go together like coke and mentos.\")\n",
        "elif final_score >=40 and final_score <= 50:\n",
        "  print(f\"Your score is {final_score}, you are alright together.\")\n",
        "else:\n",
        "  print(f\"Your score is {final_score}.\")"
      ],
      "metadata": {
        "colab": {
          "base_uri": "https://localhost:8080/"
        },
        "id": "YbuRzDWtp8dD",
        "outputId": "4e88e967-9bc8-49d7-84b5-cf33a36067f7"
      },
      "execution_count": null,
      "outputs": [
        {
          "output_type": "stream",
          "name": "stdout",
          "text": [
            "The love calculator is calculating your score...\n",
            "What is your name person1?Pierre Curie\n",
            "What is your name person2?Marie Curie\n",
            "Your score is 125, you go together like coke and mentos.\n"
          ]
        }
      ]
    },
    {
      "cell_type": "code",
      "source": [
        "# Treasure Island with conditional logics\n",
        "print('''\n",
        "*******************************************************************************\n",
        "          |                   |                  |                     |\n",
        " _________|________________.=\"\"_;=.______________|_____________________|_______\n",
        "|                   |  ,-\"_,=\"\"     `\"=.|                  |\n",
        "|___________________|__\"=._o`\"-._        `\"=.______________|___________________\n",
        "          |                `\"=._o`\"=._      _`\"=._                     |\n",
        " _________|_____________________:=._o \"=._.\"_.-=\"'\"=.__________________|_______\n",
        "|                   |    __.--\" , ; `\"=._o.\" ,-\"\"\"-._ \".   |\n",
        "|___________________|_._\"  ,. .` ` `` ,  `\"-._\"-._   \". '__|___________________\n",
        "          |           |o`\"=._` , \"` `; .\". ,  \"-._\"-._; ;              |\n",
        " _________|___________| ;`-.o`\"=._; .\" ` '`.\"\\` . \"-._ /_______________|_______\n",
        "|                   | |o;    `\"-.o`\"=._``  '` \" ,__.--o;   |\n",
        "|___________________|_| ;     (#) `-.o `\"=.`_.--\"_o.-; ;___|___________________\n",
        "____/______/______/___|o;._    \"      `\".o|o_.--\"    ;o;____/______/______/____\n",
        "/______/______/______/_\"=._o--._        ; | ;        ; ;/______/______/______/_\n",
        "____/______/______/______/__\"=._o--._   ;o|o;     _._;o;____/______/______/____\n",
        "/______/______/______/______/____\"=._o._; | ;_.--\"o.--\"_/______/______/______/_\n",
        "____/______/______/______/______/_____\"=.o|o_.--\"\"___/______/______/______/____\n",
        "/______/______/______/______/______/______/______/______/______/______/_____ /\n",
        "*******************************************************************************\n",
        "''')\n",
        "print(\"Welcome to Treasure Island.\")\n",
        "print(\"Your mission is to find the treasure.\")\n",
        "decision1 = (input('You\\'re at a cross road. Where do you want to go? Type \"L\" for left or \"R\" for right.')).upper()\n",
        "if decision1 == \"L\":\n",
        "  print(\"Perfect choice!\")\n",
        "  decision2 = (input(\"Now there is river in front. Would you like to wait for boat or swim across? Type W for wait and S for swim.\")).upper()\n",
        "  if decision2 == \"W\":\n",
        "    print(\"Smart decision on waiting for boat as you crossed the river successfully.\")\n",
        "    decision3 = (input(\"There are three doors in front of you to choose. Type R for red door, Y for yellow door and B for blue door.'\")).upper()\n",
        "    if decision3 == \"R\":\n",
        "      print(\"Burned by fire. Game Over.\")\n",
        "    elif decision3 == \"B\":\n",
        "      print(\"Eaten by beasts. Game over.\")\n",
        "    elif decision3 == \"Y\":\n",
        "      print(\"You Win!\")\n",
        "    else:\n",
        "      print(\"Wrong input. Game Over.\")\n",
        "  else:\n",
        "    print(\"You encountred with sharks and you are killed. Game over.\")\n",
        "else:\n",
        "  print(\"Incorrect input. Game Over.\")"
      ],
      "metadata": {
        "id": "Wn7x3hVy-6Ll",
        "colab": {
          "base_uri": "https://localhost:8080/"
        },
        "outputId": "88e17d1b-65e4-4b2f-8e75-ddac4064fee6"
      },
      "execution_count": 18,
      "outputs": [
        {
          "output_type": "stream",
          "name": "stdout",
          "text": [
            "\n",
            "*******************************************************************************\n",
            "          |                   |                  |                     |\n",
            " _________|________________.=\"\"_;=.______________|_____________________|_______\n",
            "|                   |  ,-\"_,=\"\"     `\"=.|                  |\n",
            "|___________________|__\"=._o`\"-._        `\"=.______________|___________________\n",
            "          |                `\"=._o`\"=._      _`\"=._                     |\n",
            " _________|_____________________:=._o \"=._.\"_.-=\"'\"=.__________________|_______\n",
            "|                   |    __.--\" , ; `\"=._o.\" ,-\"\"\"-._ \".   |\n",
            "|___________________|_._\"  ,. .` ` `` ,  `\"-._\"-._   \". '__|___________________\n",
            "          |           |o`\"=._` , \"` `; .\". ,  \"-._\"-._; ;              |\n",
            " _________|___________| ;`-.o`\"=._; .\" ` '`.\"\\` . \"-._ /_______________|_______\n",
            "|                   | |o;    `\"-.o`\"=._``  '` \" ,__.--o;   |\n",
            "|___________________|_| ;     (#) `-.o `\"=.`_.--\"_o.-; ;___|___________________\n",
            "____/______/______/___|o;._    \"      `\".o|o_.--\"    ;o;____/______/______/____\n",
            "/______/______/______/_\"=._o--._        ; | ;        ; ;/______/______/______/_\n",
            "____/______/______/______/__\"=._o--._   ;o|o;     _._;o;____/______/______/____\n",
            "/______/______/______/______/____\"=._o._; | ;_.--\"o.--\"_/______/______/______/_\n",
            "____/______/______/______/______/_____\"=.o|o_.--\"\"___/______/______/______/____\n",
            "/______/______/______/______/______/______/______/______/______/______/_____ /\n",
            "*******************************************************************************\n",
            "\n",
            "Welcome to Treasure Island.\n",
            "Your mission is to find the treasure.\n",
            "You're at a cross road. Where do you want to go? Type \"L\" for left or \"R\" for right.l\n",
            "Perfect choice!\n",
            "Now there is river in front. Would you like to wait for boat or swim across? Type W for wait and S for swim.w\n",
            "Smart decision on waiting for boat as you crossed the river successfully.\n",
            "There are three doors in front of you to choose. Type R for red door, Y for yellow door and B for blue door.'y\n",
            "You Win!\n"
          ]
        }
      ]
    },
    {
      "cell_type": "code",
      "source": [],
      "metadata": {
        "id": "CQhAXG6yg9qE"
      },
      "execution_count": null,
      "outputs": []
    }
  ]
}